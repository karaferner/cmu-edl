{
 "cells": [
  {
   "cell_type": "code",
   "execution_count": 14,
   "metadata": {},
   "outputs": [],
   "source": [
    "import cmu_edl_initial as edl\n",
    "import pandas as pd\n",
    "import altair as alt"
   ]
  },
  {
   "cell_type": "code",
   "execution_count": 15,
   "metadata": {},
   "outputs": [],
   "source": [
    "filename = \"test_data_highIVcurve.txt\"\n",
    "df = edl.get_data(filename)"
   ]
  },
  {
   "cell_type": "code",
   "execution_count": 16,
   "metadata": {},
   "outputs": [
    {
     "name": "stdout",
     "output_type": "stream",
     "text": [
      "       Ns       time/s   <Ewe>/V        I/mA\n",
      "0       0     0.100000  1.445101   1511.4467\n",
      "1       0     0.200000  1.511759   1512.4656\n",
      "2       0     0.300000  1.514861   1510.4275\n",
      "3       0     0.400000  1.516269   1522.1458\n",
      "4       0     0.500000  1.517190   1514.5034\n",
      "...    ..          ...       ...         ...\n",
      "24941  18  2492.551737  2.198576  19515.2890\n",
      "24942  18  2492.651737  2.198539  19509.6840\n",
      "24943  18  2492.751737  2.198600  19518.3460\n",
      "24944  18  2492.851737  2.198512  19518.3460\n",
      "24945  18  2492.851937  2.198353  19511.7230\n",
      "\n",
      "[24946 rows x 4 columns]\n"
     ]
    }
   ],
   "source": [
    "print(df)"
   ]
  },
  {
   "cell_type": "code",
   "execution_count": 17,
   "metadata": {},
   "outputs": [
    {
     "name": "stderr",
     "output_type": "stream",
     "text": [
      "/Users/karaferner/git/cmu-crafting-software-2024/04_FinalProject/cmu-edl/cmu_edl_initial.py:25: FutureWarning: The behavior of DataFrame concatenation with empty or all-NA entries is deprecated. In a future version, this will no longer exclude empty or all-NA columns when determining the result dtypes. To retain the old behavior, exclude the relevant entries before the concat operation.\n",
      "  results = pd.concat([results,new_row],ignore_index=True )\n"
     ]
    }
   ],
   "source": [
    "r = edl.get_pol_curve(df)\n",
    "\n"
   ]
  },
  {
   "cell_type": "code",
   "execution_count": 18,
   "metadata": {},
   "outputs": [
    {
     "data": {
      "text/html": [
       "<div>\n",
       "<style scoped>\n",
       "    .dataframe tbody tr th:only-of-type {\n",
       "        vertical-align: middle;\n",
       "    }\n",
       "\n",
       "    .dataframe tbody tr th {\n",
       "        vertical-align: top;\n",
       "    }\n",
       "\n",
       "    .dataframe thead th {\n",
       "        text-align: right;\n",
       "    }\n",
       "</style>\n",
       "<table border=\"1\" class=\"dataframe\">\n",
       "  <thead>\n",
       "    <tr style=\"text-align: right;\">\n",
       "      <th></th>\n",
       "      <th>voltage_avg</th>\n",
       "      <th>current_avg</th>\n",
       "    </tr>\n",
       "  </thead>\n",
       "  <tbody>\n",
       "    <tr>\n",
       "      <th>0</th>\n",
       "      <td>1.531177</td>\n",
       "      <td>0.302065</td>\n",
       "    </tr>\n",
       "    <tr>\n",
       "      <th>1</th>\n",
       "      <td>1.574150</td>\n",
       "      <td>0.502560</td>\n",
       "    </tr>\n",
       "    <tr>\n",
       "      <th>2</th>\n",
       "      <td>1.612785</td>\n",
       "      <td>0.701780</td>\n",
       "    </tr>\n",
       "    <tr>\n",
       "      <th>3</th>\n",
       "      <td>1.651418</td>\n",
       "      <td>0.902051</td>\n",
       "    </tr>\n",
       "    <tr>\n",
       "      <th>4</th>\n",
       "      <td>1.686344</td>\n",
       "      <td>1.102270</td>\n",
       "    </tr>\n",
       "    <tr>\n",
       "      <th>5</th>\n",
       "      <td>1.720401</td>\n",
       "      <td>1.302642</td>\n",
       "    </tr>\n",
       "    <tr>\n",
       "      <th>6</th>\n",
       "      <td>1.753734</td>\n",
       "      <td>1.501914</td>\n",
       "    </tr>\n",
       "    <tr>\n",
       "      <th>7</th>\n",
       "      <td>1.787123</td>\n",
       "      <td>1.703101</td>\n",
       "    </tr>\n",
       "    <tr>\n",
       "      <th>8</th>\n",
       "      <td>1.820054</td>\n",
       "      <td>1.902464</td>\n",
       "    </tr>\n",
       "    <tr>\n",
       "      <th>9</th>\n",
       "      <td>1.852182</td>\n",
       "      <td>2.103183</td>\n",
       "    </tr>\n",
       "    <tr>\n",
       "      <th>10</th>\n",
       "      <td>1.885059</td>\n",
       "      <td>2.302506</td>\n",
       "    </tr>\n",
       "    <tr>\n",
       "      <th>11</th>\n",
       "      <td>1.918139</td>\n",
       "      <td>2.502653</td>\n",
       "    </tr>\n",
       "    <tr>\n",
       "      <th>12</th>\n",
       "      <td>1.951333</td>\n",
       "      <td>2.703352</td>\n",
       "    </tr>\n",
       "    <tr>\n",
       "      <th>13</th>\n",
       "      <td>1.986239</td>\n",
       "      <td>2.903357</td>\n",
       "    </tr>\n",
       "    <tr>\n",
       "      <th>14</th>\n",
       "      <td>2.021277</td>\n",
       "      <td>3.102323</td>\n",
       "    </tr>\n",
       "    <tr>\n",
       "      <th>15</th>\n",
       "      <td>2.057233</td>\n",
       "      <td>3.303042</td>\n",
       "    </tr>\n",
       "    <tr>\n",
       "      <th>16</th>\n",
       "      <td>2.100229</td>\n",
       "      <td>3.503394</td>\n",
       "    </tr>\n",
       "    <tr>\n",
       "      <th>17</th>\n",
       "      <td>2.155009</td>\n",
       "      <td>3.703969</td>\n",
       "    </tr>\n",
       "    <tr>\n",
       "      <th>18</th>\n",
       "      <td>2.198519</td>\n",
       "      <td>3.902895</td>\n",
       "    </tr>\n",
       "  </tbody>\n",
       "</table>\n",
       "</div>"
      ],
      "text/plain": [
       "    voltage_avg  current_avg\n",
       "0      1.531177     0.302065\n",
       "1      1.574150     0.502560\n",
       "2      1.612785     0.701780\n",
       "3      1.651418     0.902051\n",
       "4      1.686344     1.102270\n",
       "5      1.720401     1.302642\n",
       "6      1.753734     1.501914\n",
       "7      1.787123     1.703101\n",
       "8      1.820054     1.902464\n",
       "9      1.852182     2.103183\n",
       "10     1.885059     2.302506\n",
       "11     1.918139     2.502653\n",
       "12     1.951333     2.703352\n",
       "13     1.986239     2.903357\n",
       "14     2.021277     3.102323\n",
       "15     2.057233     3.303042\n",
       "16     2.100229     3.503394\n",
       "17     2.155009     3.703969\n",
       "18     2.198519     3.902895"
      ]
     },
     "execution_count": 18,
     "metadata": {},
     "output_type": "execute_result"
    }
   ],
   "source": [
    "r"
   ]
  },
  {
   "cell_type": "code",
   "execution_count": 21,
   "metadata": {},
   "outputs": [
    {
     "data": {
      "text/html": [
       "\n",
       "<style>\n",
       "  #altair-viz-5943eb77278249f49c8fe1db99132c4b.vega-embed {\n",
       "    width: 100%;\n",
       "    display: flex;\n",
       "  }\n",
       "\n",
       "  #altair-viz-5943eb77278249f49c8fe1db99132c4b.vega-embed details,\n",
       "  #altair-viz-5943eb77278249f49c8fe1db99132c4b.vega-embed details summary {\n",
       "    position: relative;\n",
       "  }\n",
       "</style>\n",
       "<div id=\"altair-viz-5943eb77278249f49c8fe1db99132c4b\"></div>\n",
       "<script type=\"text/javascript\">\n",
       "  var VEGA_DEBUG = (typeof VEGA_DEBUG == \"undefined\") ? {} : VEGA_DEBUG;\n",
       "  (function(spec, embedOpt){\n",
       "    let outputDiv = document.currentScript.previousElementSibling;\n",
       "    if (outputDiv.id !== \"altair-viz-5943eb77278249f49c8fe1db99132c4b\") {\n",
       "      outputDiv = document.getElementById(\"altair-viz-5943eb77278249f49c8fe1db99132c4b\");\n",
       "    }\n",
       "    const paths = {\n",
       "      \"vega\": \"https://cdn.jsdelivr.net/npm/vega@5?noext\",\n",
       "      \"vega-lib\": \"https://cdn.jsdelivr.net/npm/vega-lib?noext\",\n",
       "      \"vega-lite\": \"https://cdn.jsdelivr.net/npm/vega-lite@5.17.0?noext\",\n",
       "      \"vega-embed\": \"https://cdn.jsdelivr.net/npm/vega-embed@6?noext\",\n",
       "    };\n",
       "\n",
       "    function maybeLoadScript(lib, version) {\n",
       "      var key = `${lib.replace(\"-\", \"\")}_version`;\n",
       "      return (VEGA_DEBUG[key] == version) ?\n",
       "        Promise.resolve(paths[lib]) :\n",
       "        new Promise(function(resolve, reject) {\n",
       "          var s = document.createElement('script');\n",
       "          document.getElementsByTagName(\"head\")[0].appendChild(s);\n",
       "          s.async = true;\n",
       "          s.onload = () => {\n",
       "            VEGA_DEBUG[key] = version;\n",
       "            return resolve(paths[lib]);\n",
       "          };\n",
       "          s.onerror = () => reject(`Error loading script: ${paths[lib]}`);\n",
       "          s.src = paths[lib];\n",
       "        });\n",
       "    }\n",
       "\n",
       "    function showError(err) {\n",
       "      outputDiv.innerHTML = `<div class=\"error\" style=\"color:red;\">${err}</div>`;\n",
       "      throw err;\n",
       "    }\n",
       "\n",
       "    function displayChart(vegaEmbed) {\n",
       "      vegaEmbed(outputDiv, spec, embedOpt)\n",
       "        .catch(err => showError(`Javascript Error: ${err.message}<br>This usually means there's a typo in your chart specification. See the javascript console for the full traceback.`));\n",
       "    }\n",
       "\n",
       "    if(typeof define === \"function\" && define.amd) {\n",
       "      requirejs.config({paths});\n",
       "      require([\"vega-embed\"], displayChart, err => showError(`Error loading script: ${err.message}`));\n",
       "    } else {\n",
       "      maybeLoadScript(\"vega\", \"5\")\n",
       "        .then(() => maybeLoadScript(\"vega-lite\", \"5.17.0\"))\n",
       "        .then(() => maybeLoadScript(\"vega-embed\", \"6\"))\n",
       "        .catch(showError)\n",
       "        .then(() => displayChart(vegaEmbed));\n",
       "    }\n",
       "  })({\"config\": {\"view\": {\"continuousWidth\": 300, \"continuousHeight\": 300}}, \"data\": {\"name\": \"data-f7847fdd9ed94d9c3e45e31526642dfa\"}, \"mark\": {\"type\": \"point\"}, \"encoding\": {\"x\": {\"field\": \"current_avg\", \"scale\": {\"domain\": [0, 3]}, \"type\": \"quantitative\"}, \"y\": {\"field\": \"voltage_avg\", \"scale\": {\"domain\": [1.38, 2.1]}, \"type\": \"quantitative\"}}, \"$schema\": \"https://vega.github.io/schema/vega-lite/v5.17.0.json\", \"datasets\": {\"data-f7847fdd9ed94d9c3e45e31526642dfa\": [{\"voltage_avg\": 1.5311766600000003, \"current_avg\": 0.302065132}, {\"voltage_avg\": 1.57415024, \"current_avg\": 0.5025595520000001}, {\"voltage_avg\": 1.61278517, \"current_avg\": 0.701780222}, {\"voltage_avg\": 1.65141784, \"current_avg\": 0.9020505379999999}, {\"voltage_avg\": 1.6863444900000002, \"current_avg\": 1.1022698119999998}, {\"voltage_avg\": 1.7204008100000003, \"current_avg\": 1.302641932}, {\"voltage_avg\": 1.7537336, \"current_avg\": 1.5019135860000001}, {\"voltage_avg\": 1.7871230999999999, \"current_avg\": 1.703100978}, {\"voltage_avg\": 1.8200543200000001, \"current_avg\": 1.9024643959999998}, {\"voltage_avg\": 1.85218209, \"current_avg\": 2.10318294}, {\"voltage_avg\": 1.8850594, \"current_avg\": 2.30250552}, {\"voltage_avg\": 1.9181394400000003, \"current_avg\": 2.5026534399999996}, {\"voltage_avg\": 1.9513328299999997, \"current_avg\": 2.70335158}, {\"voltage_avg\": 1.98623941, \"current_avg\": 2.90335696}, {\"voltage_avg\": 2.0212771700000003, \"current_avg\": 3.10232302}, {\"voltage_avg\": 2.0572332799999997, \"current_avg\": 3.3030417}, {\"voltage_avg\": 2.1002285699999996, \"current_avg\": 3.5033935599999997}, {\"voltage_avg\": 2.1550085799999996, \"current_avg\": 3.70396944}, {\"voltage_avg\": 2.19851874, \"current_avg\": 3.9028947}]}}, {\"mode\": \"vega-lite\"});\n",
       "</script>"
      ],
      "text/plain": [
       "alt.Chart(...)"
      ]
     },
     "execution_count": 21,
     "metadata": {},
     "output_type": "execute_result"
    }
   ],
   "source": [
    "alt.Chart(r).mark_point().encode(\n",
    "    alt.X('current_avg',scale=alt.Scale(domain=[0,3])),\n",
    "    alt.Y('voltage_avg',scale=alt.Scale(domain=[1.38,2.1]))\n",
    "    \n",
    ")"
   ]
  },
  {
   "cell_type": "code",
   "execution_count": null,
   "metadata": {},
   "outputs": [],
   "source": []
  }
 ],
 "metadata": {
  "kernelspec": {
   "display_name": "Python 3",
   "language": "python",
   "name": "python3"
  },
  "language_info": {
   "codemirror_mode": {
    "name": "ipython",
    "version": 3
   },
   "file_extension": ".py",
   "mimetype": "text/x-python",
   "name": "python",
   "nbconvert_exporter": "python",
   "pygments_lexer": "ipython3",
   "version": "3.12.1"
  }
 },
 "nbformat": 4,
 "nbformat_minor": 2
}
