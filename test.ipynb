{
 "cells": [
  {
   "cell_type": "code",
   "execution_count": 1,
   "metadata": {},
   "outputs": [
    {
     "name": "stderr",
     "output_type": "stream",
     "text": [
      "/Users/karaferner/git/cmu-crafting-software-2024/04_FinalProject/cmu-edl/cmu_edl_initial.py:18: SyntaxWarning: invalid escape sequence '\\s'\n",
      "  return pd.read_csv(filename, sep=\"\\s+\")\n"
     ]
    }
   ],
   "source": [
    "import cmu_edl_initial as edl\n",
    "import pandas as pd\n",
    "import altair as alt"
   ]
  },
  {
   "cell_type": "code",
   "execution_count": 14,
   "metadata": {},
   "outputs": [],
   "source": [
    "df_high_current = edl.get_data(\"test_data/test_data_highIVcurve.txt\")\n",
    "df_low_current = edl.get_data(\"test_data/test_data_lowIVcurve.txt\")"
   ]
  },
  {
   "cell_type": "code",
   "execution_count": 15,
   "metadata": {},
   "outputs": [
    {
     "name": "stdout",
     "output_type": "stream",
     "text": [
      "       Ns       time/s   <Ewe>/V        I/mA\n",
      "0       0     0.100000  1.156833    3.866200\n",
      "1       0     0.200000  1.168724    9.980078\n",
      "2       0     0.300000  1.181798   12.527523\n",
      "3       0     0.400000  1.193858    9.470584\n",
      "4       0     0.500000  1.205394   13.037017\n",
      "...    ..          ...       ...         ...\n",
      "24615  18  2459.753538  1.486764  506.732640\n",
      "24616  18  2459.853538  1.486773  509.280090\n",
      "24617  18  2459.953538  1.486783  510.299070\n",
      "24618  18  2460.053538  1.486794  510.299070\n",
      "24619  18  2460.053738  1.486746  507.242130\n",
      "\n",
      "[24620 rows x 4 columns]\n"
     ]
    }
   ],
   "source": [
    "print(df_low_current)"
   ]
  },
  {
   "cell_type": "code",
   "execution_count": 16,
   "metadata": {},
   "outputs": [
    {
     "name": "stderr",
     "output_type": "stream",
     "text": [
      "/Users/karaferner/git/cmu-crafting-software-2024/04_FinalProject/cmu-edl/cmu_edl_initial.py:25: FutureWarning: The behavior of DataFrame concatenation with empty or all-NA entries is deprecated. In a future version, this will no longer exclude empty or all-NA columns when determining the result dtypes. To retain the old behavior, exclude the relevant entries before the concat operation.\n",
      "  results = pd.concat([results,new_row],ignore_index=True)\n"
     ]
    }
   ],
   "source": [
    "r = edl.get_pol_curve(df_high_current,low_current_data=df_low_current)\n",
    "\n"
   ]
  },
  {
   "cell_type": "code",
   "execution_count": 17,
   "metadata": {},
   "outputs": [
    {
     "data": {
      "text/html": [
       "<div>\n",
       "<style scoped>\n",
       "    .dataframe tbody tr th:only-of-type {\n",
       "        vertical-align: middle;\n",
       "    }\n",
       "\n",
       "    .dataframe tbody tr th {\n",
       "        vertical-align: top;\n",
       "    }\n",
       "\n",
       "    .dataframe thead th {\n",
       "        text-align: right;\n",
       "    }\n",
       "</style>\n",
       "<table border=\"1\" class=\"dataframe\">\n",
       "  <thead>\n",
       "    <tr style=\"text-align: right;\">\n",
       "      <th></th>\n",
       "      <th>voltage_avg</th>\n",
       "      <th>current_avg</th>\n",
       "    </tr>\n",
       "  </thead>\n",
       "  <tbody>\n",
       "    <tr>\n",
       "      <th>0</th>\n",
       "      <td>1.407514</td>\n",
       "      <td>0.001833</td>\n",
       "    </tr>\n",
       "    <tr>\n",
       "      <th>1</th>\n",
       "      <td>1.411183</td>\n",
       "      <td>0.003310</td>\n",
       "    </tr>\n",
       "    <tr>\n",
       "      <th>2</th>\n",
       "      <td>1.414629</td>\n",
       "      <td>0.004248</td>\n",
       "    </tr>\n",
       "    <tr>\n",
       "      <th>3</th>\n",
       "      <td>1.417447</td>\n",
       "      <td>0.005511</td>\n",
       "    </tr>\n",
       "    <tr>\n",
       "      <th>4</th>\n",
       "      <td>1.420034</td>\n",
       "      <td>0.006347</td>\n",
       "    </tr>\n",
       "    <tr>\n",
       "      <th>5</th>\n",
       "      <td>1.422524</td>\n",
       "      <td>0.007600</td>\n",
       "    </tr>\n",
       "    <tr>\n",
       "      <th>6</th>\n",
       "      <td>1.424658</td>\n",
       "      <td>0.008976</td>\n",
       "    </tr>\n",
       "    <tr>\n",
       "      <th>7</th>\n",
       "      <td>1.425063</td>\n",
       "      <td>0.009200</td>\n",
       "    </tr>\n",
       "    <tr>\n",
       "      <th>8</th>\n",
       "      <td>1.427221</td>\n",
       "      <td>0.010555</td>\n",
       "    </tr>\n",
       "    <tr>\n",
       "      <th>9</th>\n",
       "      <td>1.429119</td>\n",
       "      <td>0.011636</td>\n",
       "    </tr>\n",
       "    <tr>\n",
       "      <th>10</th>\n",
       "      <td>1.439636</td>\n",
       "      <td>0.020796</td>\n",
       "    </tr>\n",
       "    <tr>\n",
       "      <th>11</th>\n",
       "      <td>1.448914</td>\n",
       "      <td>0.031954</td>\n",
       "    </tr>\n",
       "    <tr>\n",
       "      <th>12</th>\n",
       "      <td>1.455645</td>\n",
       "      <td>0.041166</td>\n",
       "    </tr>\n",
       "    <tr>\n",
       "      <th>13</th>\n",
       "      <td>1.461994</td>\n",
       "      <td>0.051845</td>\n",
       "    </tr>\n",
       "    <tr>\n",
       "      <th>14</th>\n",
       "      <td>1.467443</td>\n",
       "      <td>0.061494</td>\n",
       "    </tr>\n",
       "    <tr>\n",
       "      <th>15</th>\n",
       "      <td>1.473122</td>\n",
       "      <td>0.071857</td>\n",
       "    </tr>\n",
       "    <tr>\n",
       "      <th>16</th>\n",
       "      <td>1.477642</td>\n",
       "      <td>0.081201</td>\n",
       "    </tr>\n",
       "    <tr>\n",
       "      <th>17</th>\n",
       "      <td>1.482310</td>\n",
       "      <td>0.091839</td>\n",
       "    </tr>\n",
       "    <tr>\n",
       "      <th>18</th>\n",
       "      <td>1.486762</td>\n",
       "      <td>0.101571</td>\n",
       "    </tr>\n",
       "  </tbody>\n",
       "</table>\n",
       "</div>"
      ],
      "text/plain": [
       "    voltage_avg  current_avg\n",
       "0      1.407514     0.001833\n",
       "1      1.411183     0.003310\n",
       "2      1.414629     0.004248\n",
       "3      1.417447     0.005511\n",
       "4      1.420034     0.006347\n",
       "5      1.422524     0.007600\n",
       "6      1.424658     0.008976\n",
       "7      1.425063     0.009200\n",
       "8      1.427221     0.010555\n",
       "9      1.429119     0.011636\n",
       "10     1.439636     0.020796\n",
       "11     1.448914     0.031954\n",
       "12     1.455645     0.041166\n",
       "13     1.461994     0.051845\n",
       "14     1.467443     0.061494\n",
       "15     1.473122     0.071857\n",
       "16     1.477642     0.081201\n",
       "17     1.482310     0.091839\n",
       "18     1.486762     0.101571"
      ]
     },
     "execution_count": 17,
     "metadata": {},
     "output_type": "execute_result"
    }
   ],
   "source": [
    "r"
   ]
  },
  {
   "cell_type": "code",
   "execution_count": 18,
   "metadata": {},
   "outputs": [
    {
     "data": {
      "text/html": [
       "\n",
       "<style>\n",
       "  #altair-viz-491551213f304a0993d02d93b0ce6817.vega-embed {\n",
       "    width: 100%;\n",
       "    display: flex;\n",
       "  }\n",
       "\n",
       "  #altair-viz-491551213f304a0993d02d93b0ce6817.vega-embed details,\n",
       "  #altair-viz-491551213f304a0993d02d93b0ce6817.vega-embed details summary {\n",
       "    position: relative;\n",
       "  }\n",
       "</style>\n",
       "<div id=\"altair-viz-491551213f304a0993d02d93b0ce6817\"></div>\n",
       "<script type=\"text/javascript\">\n",
       "  var VEGA_DEBUG = (typeof VEGA_DEBUG == \"undefined\") ? {} : VEGA_DEBUG;\n",
       "  (function(spec, embedOpt){\n",
       "    let outputDiv = document.currentScript.previousElementSibling;\n",
       "    if (outputDiv.id !== \"altair-viz-491551213f304a0993d02d93b0ce6817\") {\n",
       "      outputDiv = document.getElementById(\"altair-viz-491551213f304a0993d02d93b0ce6817\");\n",
       "    }\n",
       "    const paths = {\n",
       "      \"vega\": \"https://cdn.jsdelivr.net/npm/vega@5?noext\",\n",
       "      \"vega-lib\": \"https://cdn.jsdelivr.net/npm/vega-lib?noext\",\n",
       "      \"vega-lite\": \"https://cdn.jsdelivr.net/npm/vega-lite@5.17.0?noext\",\n",
       "      \"vega-embed\": \"https://cdn.jsdelivr.net/npm/vega-embed@6?noext\",\n",
       "    };\n",
       "\n",
       "    function maybeLoadScript(lib, version) {\n",
       "      var key = `${lib.replace(\"-\", \"\")}_version`;\n",
       "      return (VEGA_DEBUG[key] == version) ?\n",
       "        Promise.resolve(paths[lib]) :\n",
       "        new Promise(function(resolve, reject) {\n",
       "          var s = document.createElement('script');\n",
       "          document.getElementsByTagName(\"head\")[0].appendChild(s);\n",
       "          s.async = true;\n",
       "          s.onload = () => {\n",
       "            VEGA_DEBUG[key] = version;\n",
       "            return resolve(paths[lib]);\n",
       "          };\n",
       "          s.onerror = () => reject(`Error loading script: ${paths[lib]}`);\n",
       "          s.src = paths[lib];\n",
       "        });\n",
       "    }\n",
       "\n",
       "    function showError(err) {\n",
       "      outputDiv.innerHTML = `<div class=\"error\" style=\"color:red;\">${err}</div>`;\n",
       "      throw err;\n",
       "    }\n",
       "\n",
       "    function displayChart(vegaEmbed) {\n",
       "      vegaEmbed(outputDiv, spec, embedOpt)\n",
       "        .catch(err => showError(`Javascript Error: ${err.message}<br>This usually means there's a typo in your chart specification. See the javascript console for the full traceback.`));\n",
       "    }\n",
       "\n",
       "    if(typeof define === \"function\" && define.amd) {\n",
       "      requirejs.config({paths});\n",
       "      require([\"vega-embed\"], displayChart, err => showError(`Error loading script: ${err.message}`));\n",
       "    } else {\n",
       "      maybeLoadScript(\"vega\", \"5\")\n",
       "        .then(() => maybeLoadScript(\"vega-lite\", \"5.17.0\"))\n",
       "        .then(() => maybeLoadScript(\"vega-embed\", \"6\"))\n",
       "        .catch(showError)\n",
       "        .then(() => displayChart(vegaEmbed));\n",
       "    }\n",
       "  })({\"config\": {\"view\": {\"continuousWidth\": 300, \"continuousHeight\": 300}}, \"data\": {\"name\": \"data-69026e04d88ab55d1a460c31e8955a94\"}, \"mark\": {\"type\": \"point\"}, \"encoding\": {\"x\": {\"field\": \"current_avg\", \"scale\": {\"domain\": [0, 3]}, \"type\": \"quantitative\"}, \"y\": {\"field\": \"voltage_avg\", \"scale\": {\"domain\": [1.38, 2.1]}, \"type\": \"quantitative\"}}, \"$schema\": \"https://vega.github.io/schema/vega-lite/v5.17.0.json\", \"datasets\": {\"data-69026e04d88ab55d1a460c31e8955a94\": [{\"voltage_avg\": 1.4075137300000002, \"current_avg\": 0.0018329790256000002}, {\"voltage_avg\": 1.41118341, \"current_avg\": 0.0033104993800000004}, {\"voltage_avg\": 1.41462917, \"current_avg\": 0.0042479612799999995}, {\"voltage_avg\": 1.41744652, \"current_avg\": 0.00551149588}, {\"voltage_avg\": 1.42003427, \"current_avg\": 0.00634705946}, {\"voltage_avg\": 1.42252395, \"current_avg\": 0.0076004046}, {\"voltage_avg\": 1.42465776, \"current_avg\": 0.008976026699999999}, {\"voltage_avg\": 1.42506346, \"current_avg\": 0.009200202639999999}, {\"voltage_avg\": 1.4272205599999999, \"current_avg\": 0.010555444940000002}, {\"voltage_avg\": 1.4291193200000003, \"current_avg\": 0.011635563880000001}, {\"voltage_avg\": 1.4396355499999998, \"current_avg\": 0.020796189200000002}, {\"voltage_avg\": 1.4489143000000002, \"current_avg\": 0.031954018}, {\"voltage_avg\": 1.4556451400000001, \"current_avg\": 0.0411655934}, {\"voltage_avg\": 1.46199385, \"current_avg\": 0.0518445}, {\"voltage_avg\": 1.4674431599999997, \"current_avg\": 0.06149423479999999}, {\"voltage_avg\": 1.4731221900000002, \"current_avg\": 0.07185725479999999}, {\"voltage_avg\": 1.47764244, \"current_avg\": 0.08120129899999999}, {\"voltage_avg\": 1.4823104399999998, \"current_avg\": 0.09183944880000001}, {\"voltage_avg\": 1.4867620000000001, \"current_avg\": 0.10157070579999998}]}}, {\"mode\": \"vega-lite\"});\n",
       "</script>"
      ],
      "text/plain": [
       "alt.Chart(...)"
      ]
     },
     "execution_count": 18,
     "metadata": {},
     "output_type": "execute_result"
    }
   ],
   "source": [
    "alt.Chart(r).mark_point().encode(\n",
    "    alt.X('current_avg',scale=alt.Scale(domain=[0,3])),\n",
    "    alt.Y('voltage_avg',scale=alt.Scale(domain=[1.38,2.1]))\n",
    "    \n",
    ")"
   ]
  },
  {
   "cell_type": "code",
   "execution_count": null,
   "metadata": {},
   "outputs": [],
   "source": []
  },
  {
   "cell_type": "code",
   "execution_count": null,
   "metadata": {},
   "outputs": [],
   "source": []
  }
 ],
 "metadata": {
  "kernelspec": {
   "display_name": "Python 3",
   "language": "python",
   "name": "python3"
  },
  "language_info": {
   "codemirror_mode": {
    "name": "ipython",
    "version": 3
   },
   "file_extension": ".py",
   "mimetype": "text/x-python",
   "name": "python",
   "nbconvert_exporter": "python",
   "pygments_lexer": "ipython3",
   "version": "3.12.1"
  }
 },
 "nbformat": 4,
 "nbformat_minor": 2
}
